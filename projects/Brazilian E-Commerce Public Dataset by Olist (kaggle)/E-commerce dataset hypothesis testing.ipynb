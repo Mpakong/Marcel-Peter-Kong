{
 "cells": [
  {
   "cell_type": "markdown",
   "id": "1d6adc51-e77a-49e3-aed1-9c12f4bbc13b",
   "metadata": {},
   "source": [
    "# Introduction\n",
    "Welcome to the analysis of the Brazilian e-commerce dataset from Olist Store. This project aims to test several hypotheses to determine their statistical significance in relation to the broader population. By examining various aspects of the dataset, we hope to uncover insights that can benefit sellers on the e-commerce platform.\n",
    "\n",
    "## Hypotheses\n",
    "\n",
    "1. Influence of Payment Methods on Purchase Frequency:<br>\n",
    "<br>\n",
    "    - We hypothesize that certain payment methods are preferred by customers and lead to higher purchase frequency. Sellers can offer and promote these preferred payment methods to increase sales.<br>\n",
    "<br>\n",
    "2. Effect of Product Reviews on Sales:<br>\n",
    "<br>\n",
    "    - We hypothesize that products with higher review ratings have higher sales. Sellers can focus on improving product quality and encouraging satisfied customers to leave positive reviews to boost sales.<br>\n",
    "<br>\n",
    "3. Customer Loyalty and Repurchase Rates:<br>\n",
    "<br>\n",
    "   - We hypothesize that customers who leave positive reviews are more likely to make repeat purchases. Sellers can implement loyalty programs and follow-up strategies to encourage repeat business from satisfied customers.\n",
    "\n",
    "\n",
    "# About the dataset\n",
    "\n",
    "The dataset can be found on kaggle [click here to view dataset in kaggle](https://www.kaggle.com/datasets/olistbr/brazilian-ecommerce)\n",
    "\n",
    "This dataset contains public information on orders made at Olist Store, a Brazilian e-commerce platform. It includes details of 100,000 orders from 2016 to 2018 across various marketplaces in Brazil.\n",
    "\n",
    "While this dataset offers a comprehensive view of sales during that period, it does not cover the entire population of all possible sales data. Therefore, it is considered a **sample dataset**.\n",
    "\n",
    "**Hypothesis testing** is essentially a method to determine if the observations from a sample can be generalized to the broader population. It helps to assess whether the patterns or effects seen in the sample data are likely to be true for the entire population or if they could have occurred by random chance.\n",
    "\n",
    "\n",
    "  \n",
    "### Accessing the data\n",
    "The dataset consists of 8 csv files. I've imported these files into [DB Browser for SQLite](https://sqlitebrowser.org/) to query the data needed for each step and upload the files into my github repository to  be used in jupyter notebooks.\n",
    "\n",
    "Please refer to the data schema below:\n",
    "\n",
    "<div style=\"text-align: center;\">\r\n",
    "  <img src=https://i.imgur.com/HRhd2Y0.pngL\" alt=Schemat\" width=6300\" height=5200\" style=\"margin-left: 20px;\">\r\n",
    "</div>\r\n"
   ]
  },
  {
   "cell_type": "markdown",
   "id": "23dca1ec-cbf3-476e-9b7b-3ee9f7a703aa",
   "metadata": {},
   "source": [
    "## For our first hypothesis:\n",
    "Influence of Payment Methods on Purchase Frequency:\n",
    "\n",
    "- We hypothesize that certain payment methods are preferred by customers and lead to higher purchase frequency. Sellers can offer and promote these preferred payment methods to increase sales.\n",
    "\n",
    "#### Data required:\n",
    "##### from the olist_order_payments_dataset table:\n",
    " - order_id - unique identifier of an order.<br>\n",
    "- payment_type - method of payment chosen by the customer.<br>\n",
    "##### from the olist_order_customer_dataset table:\n",
    "- customer_id - key to the orders dataset. Each order has a unique customer_id.<br>\n",
    "- customer_unique_id - unique identifier of a customer.<br>\n",
    "- customer_zip_code_prefix - first five digits of customer zip code<br>\n",
    "- customer_city - customer city name<br>\n",
    "- customer_state - customer state<br>\n",
    "##### from the olist_orders_dataset table:\n",
    "- customer_id - key to the customer dataset. Each order has a unique customer_id.<br>\n",
    "- order_id - unique identifier of the order.\n",
    "  \n",
    "```sql\n",
    "SELECT c.customer_unique_id, c.customer_id, o.order_id, p.payment_type, c.customer_zip_code_prefix,\n",
    "       c.customer_city, c.customer_state\n",
    "  FROM olist_customers_dataset as c\n",
    "  LEFT JOIN olist_orders_dataset as o\n",
    "    ON c.customer_id = o.customer_id\n",
    "  LEFT JOIN olist_order_payments_dataset as p\n",
    "    ON p.order_id = o.order_id\n",
    " lIMIT 5;\n",
    "```\n",
    "\n",
    "**Result:**\n",
    "\n",
    "\n",
    "customer_unique_id | customer_id | order_id | payment_type | customer_zip_code_prefix | customer_city | customer_state\n",
    ":--:|:--:|:--:|:--:|:--:|:--:|:--:|\n",
    "861eff4711a542e4b93843c6dd7febb0 | 06b8999e2fba1a1fbc88172c00ba8bc7 | 00e7ee1b050b8499577073aeb2a297a1 | credit_card | 14409 | franca | SP\n",
    "290c77bc529b7ac935b93aa66c333dc3 | 18955e83d337fd6b2def6b18a428ac77 | 29150127e6685892b6eab3eec79f59c7 | credit_card | 9790 | sao bernardo do campo | SP\n",
    "060e732b5b29e8181a18229c7b0b2b5e | 4e7b3e00288586ebd08712fdd0374a03 | b2059ed67ce144a36e2aa97d2c9e9ad2 | credit_card | 1151 | sao paulo | SP\n",
    "259dac757896d24d7702b9acbbff3f3c | b2b6027bc5c5109e529d4dc6358b12c3 | 951670f92359f4fe4a63112aa7306eba | credit_card | 8775 | mogi das cruzes | SP\n",
    "345ecd01c38d18a9036ed96c73b8d066 | 4f2d8ab171c80ec8364f7c12e35b23ad | 6b7d50bd145f6fc7f33cebabd7e49d0f | credit_card | 13056 | campinas | SP\n"
   ]
  },
  {
   "cell_type": "markdown",
   "id": "f0066899-8047-4eb3-885c-68041278977c",
   "metadata": {},
   "source": [
    "title | first_name | last_name |\n",
    "--|--|--|\n",
    "Senior General Manager | Madan | Mohan"
   ]
  },
  {
   "cell_type": "code",
   "execution_count": null,
   "id": "adcd5e48-e789-40fa-9ba0-f23e41fe27cb",
   "metadata": {},
   "outputs": [],
   "source": []
  }
 ],
 "metadata": {
  "kernelspec": {
   "display_name": "Python 3 (ipykernel)",
   "language": "python",
   "name": "python3"
  },
  "language_info": {
   "codemirror_mode": {
    "name": "ipython",
    "version": 3
   },
   "file_extension": ".py",
   "mimetype": "text/x-python",
   "name": "python",
   "nbconvert_exporter": "python",
   "pygments_lexer": "ipython3",
   "version": "3.12.4"
  }
 },
 "nbformat": 4,
 "nbformat_minor": 5
}
