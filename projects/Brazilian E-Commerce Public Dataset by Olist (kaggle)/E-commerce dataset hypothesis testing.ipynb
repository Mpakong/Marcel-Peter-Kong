{
 "cells": [
  {
   "cell_type": "markdown",
   "id": "1d6adc51-e77a-49e3-aed1-9c12f4bbc13b",
   "metadata": {},
   "source": [
    "# Introduction\n",
    "Welcome to the analysis of the Brazilian e-commerce dataset from Olist Store. This project aims to test several hypotheses to determine their statistical significance in relation to the broader population. By examining various aspects of the dataset, we hope to uncover insights that can benefit sellers on the e-commerce platform.\n",
    "\n",
    "## Hypotheses\n",
    "\n",
    "1. Influence of Payment Methods on Purchase Frequency:<br>\n",
    "<br>\n",
    "    - We hypothesize that certain payment methods are preferred by customers and lead to higher purchase frequency. Sellers can offer and promote these preferred payment methods to increase sales.<br>\n",
    "<br>\n",
    "2. Effect of Product Reviews on Sales:<br>\n",
    "<br>\n",
    "    - We hypothesize that products with higher review ratings have higher sales. Sellers can focus on improving product quality and encouraging satisfied customers to leave positive reviews to boost sales.<br>\n",
    "<br>\n",
    "3. Customer Loyalty and Repurchase Rates:<br>\n",
    "<br>\n",
    "   - We hypothesize that customers who leave positive reviews are more likely to make repeat purchases. Sellers can implement loyalty programs and follow-up strategies to encourage repeat business from satisfied customers.\n",
    "\n",
    "\n",
    "# About the dataset\n",
    "\n",
    "The dataset can be found on kaggle [click here to view dataset in kaggle](https://www.kaggle.com/datasets/olistbr/brazilian-ecommerce)\n",
    "\n",
    "This dataset contains public information on orders made at Olist Store, a Brazilian e-commerce platform. It includes details of 100,000 orders from 2016 to 2018 across various marketplaces in Brazil.\n",
    "\n",
    "While this dataset offers a comprehensive view of sales during that period, it does not cover the entire population of all possible sales data. Therefore, it is considered a **sample dataset**.\n",
    "\n",
    "**Hypothesis testing** is essentially a method to determine if the observations from a sample can be generalized to the broader population. It helps to assess whether the patterns or effects seen in the sample data are likely to be true for the entire population or if they could have occurred by random chance.\n",
    "\n",
    "\n",
    "  \n",
    "### Accessing the data\n",
    "The dataset consists of 8 csv files. I've imported these files into [DB Browser for SQLite](https://sqlitebrowser.org/) to query the data needed for each step and upload the files into my github repository to  be used in jupyter notebooks.\n",
    "\n",
    "Please refer to the data schema below:\n",
    "\n",
    "<div style=\"text-align: center;\">\r\n",
    "  <img src=https://i.imgur.com/HRhd2Y0.pngL\" alt=Schemat\" width=6300\" height=5200\" style=\"margin-left: 20px;\">\r\n",
    "</div>\r\n"
   ]
  },
  {
   "cell_type": "markdown",
   "id": "23dca1ec-cbf3-476e-9b7b-3ee9f7a703aa",
   "metadata": {},
   "source": [
    "## For our first hypothesis:\n",
    "Influence of Payment Methods on Purchase Frequency:\n",
    "\n",
    "- We hypothesize that certain payment methods are preferred by customers and lead to higher purchase frequency. Sellers can offer and promote these preferred payment methods to increase sales.\n",
    "\n",
    "#### Data required:\n",
    "##### from the olist_order_payments_dataset table:\n",
    " - order_id - unique identifier of an order.<br>\n",
    "- payment_type - method of payment chosen by the customer.<br>\n",
    "##### from the olist_order_customer_dataset table:\n",
    "- customer_id - key to the orders dataset. Each order has a unique customer_id.<br>\n",
    "- customer_unique_id - unique identifier of a customer.<br>\n",
    "- customer_zip_code_prefix - first five digits of customer zip code<br>\n",
    "- customer_city - customer city name<br>\n",
    "- customer_state - customer state<br>\n",
    "##### from the olist_orders_dataset table:\n",
    "- customer_id - key to the customer dataset. Each order has a unique customer_id.<br>\n",
    "- order_id - unique identifier of the order.\n",
    "  \n",
    "```sql\n",
    "SELECT c.customer_unique_id, c.customer_id, o.order_id, p.payment_type, c.customer_zip_code_prefix, c.customer_city, c.customer_state\n",
    "  FROM olist_customers_dataset as c\n",
    "  LEFT JOIN olist_orders_dataset as o\n",
    "    ON c.customer_id = o.customer_id\n",
    "  LEFT JOIN olist_order_payments_dataset as p\n",
    "    ON p.order_id = o.order_id;\n",
    "```"
   ]
  },
  {
   "cell_type": "markdown",
   "id": "6b1a43a6-7337-439a-9748-739856395957",
   "metadata": {},
   "source": [
    "```python\n",
    "s = \"Python syntax highlighting\"\n",
    "print s\n",
    "```"
   ]
  },
  {
   "cell_type": "markdown",
   "id": "2dcb469a-5dab-40f5-acb0-3b5e3bf15ba3",
   "metadata": {},
   "source": [
    "```sql\n",
    "SELECT c.customer_unique_id, c.customer_id, o.order_id, p.payment_type, c.customer_zip_code_prefix, c.customer_city, c.customer_state\n",
    "  FROM olist_customers_dataset as c\n",
    "  LEFT JOIN olist_orders_dataset as o\n",
    "    ON c.customer_id = o.customer_id\n",
    "  LEFT JOIN olist_order_payments_dataset as p\n",
    "    ON p.order_id = o.order_id;\n",
    "```"
   ]
  },
  {
   "cell_type": "code",
   "execution_count": null,
   "id": "061200c5-9260-4901-acd1-5824de3ca8d5",
   "metadata": {},
   "outputs": [],
   "source": []
  }
 ],
 "metadata": {
  "kernelspec": {
   "display_name": "Python 3 (ipykernel)",
   "language": "python",
   "name": "python3"
  },
  "language_info": {
   "codemirror_mode": {
    "name": "ipython",
    "version": 3
   },
   "file_extension": ".py",
   "mimetype": "text/x-python",
   "name": "python",
   "nbconvert_exporter": "python",
   "pygments_lexer": "ipython3",
   "version": "3.12.4"
  }
 },
 "nbformat": 4,
 "nbformat_minor": 5
}
