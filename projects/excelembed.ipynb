{
 "cells": [
  {
   "cell_type": "code",
   "execution_count": 2,
   "id": "a65061b0-08e6-4afe-a811-28a6f4e7102b",
   "metadata": {},
   "outputs": [
    {
     "data": {
      "text/html": [
       "\n",
       "        <iframe\n",
       "            width=\"700\"\n",
       "            height=\"384\"\n",
       "            src=\"https://1drv.ms/x/c/f6647a5413f8497b/IQSdiqLcjMSCS41bZi7Vil6TAeRAa4WK6lGmppEx4XM2jcw?AllowTyping=True&Item=sample.range&wdHideGridlines=True&wdInConfigurator=True\"\n",
       "            frameborder=\"0\"\n",
       "            allowfullscreen\n",
       "            \n",
       "        ></iframe>\n",
       "        "
      ],
      "text/plain": [
       "<IPython.lib.display.IFrame at 0x248badcaa20>"
      ]
     },
     "execution_count": 2,
     "metadata": {},
     "output_type": "execute_result"
    }
   ],
   "source": [
    "from IPython.display import IFrame\n",
    "\n",
    "# Replace the URL below with your OneDrive embed link\n",
    "embed_link = \"https://1drv.ms/x/c/f6647a5413f8497b/IQSdiqLcjMSCS41bZi7Vil6TAeRAa4WK6lGmppEx4XM2jcw?AllowTyping=True&Item=sample.range&wdHideGridlines=True&wdInConfigurator=True\"\n",
    "\n",
    "IFrame(embed_link, width=700, height=384)\n"
   ]
  }
 ],
 "metadata": {
  "kernelspec": {
   "display_name": "Python 3 (ipykernel)",
   "language": "python",
   "name": "python3"
  },
  "language_info": {
   "codemirror_mode": {
    "name": "ipython",
    "version": 3
   },
   "file_extension": ".py",
   "mimetype": "text/x-python",
   "name": "python",
   "nbconvert_exporter": "python",
   "pygments_lexer": "ipython3",
   "version": "3.12.4"
  }
 },
 "nbformat": 4,
 "nbformat_minor": 5
}
