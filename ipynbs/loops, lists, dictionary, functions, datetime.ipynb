{
 "cells": [
  {
   "cell_type": "code",
   "execution_count": 7,
   "metadata": {
    "tags": []
   },
   "outputs": [
    {
     "data": {
      "text/plain": [
       "[['id', 'title', 'url', 'num_points', 'num_comments', 'author', 'created_at'],\n",
       " ['12224879',\n",
       "  'Interactive Dynamic Video',\n",
       "  'http://www.interactivedynamicvideo.com/',\n",
       "  '386',\n",
       "  '52',\n",
       "  'ne0phyte',\n",
       "  '8/4/2016 11:52'],\n",
       " ['10975351',\n",
       "  'How to Use Open Source and Shut the Fuck Up at the Same Time',\n",
       "  'http://hueniverse.com/2016/01/26/how-to-use-open-source-and-shut-the-fuck-up-at-the-same-time/',\n",
       "  '39',\n",
       "  '10',\n",
       "  'josep2',\n",
       "  '1/26/2016 19:30'],\n",
       " ['11964716',\n",
       "  \"Florida DJs May Face Felony for April Fools' Water Joke\",\n",
       "  'http://www.thewire.com/entertainment/2013/04/florida-djs-april-fools-water-joke/63798/',\n",
       "  '2',\n",
       "  '1',\n",
       "  'vezycash',\n",
       "  '6/23/2016 22:20'],\n",
       " ['11919867',\n",
       "  'Technology ventures: From Idea to Enterprise',\n",
       "  'https://www.amazon.com/Technology-Ventures-Enterprise-Thomas-Byers/dp/0073523429',\n",
       "  '3',\n",
       "  '1',\n",
       "  'hswarna',\n",
       "  '6/17/2016 0:01']]"
      ]
     },
     "execution_count": 7,
     "metadata": {},
     "output_type": "execute_result"
    }
   ],
   "source": [
    "from csv import reader\n",
    "opened_file = open('hacker_news.csv')\n",
    "read_file = reader(opened_file)\n",
    "dataset = list(read_file)\n",
    "dataset[0:5]"
   ]
  },
  {
   "cell_type": "code",
   "execution_count": 45,
   "metadata": {},
   "outputs": [
    {
     "data": {
      "text/plain": [
       "20100"
      ]
     },
     "execution_count": 45,
     "metadata": {},
     "output_type": "execute_result"
    }
   ],
   "source": [
    "len(dataset[1:])"
   ]
  },
  {
   "cell_type": "code",
   "execution_count": null,
   "metadata": {},
   "outputs": [],
   "source": []
  },
  {
   "cell_type": "code",
   "execution_count": 44,
   "metadata": {},
   "outputs": [
    {
     "name": "stdout",
     "output_type": "stream",
     "text": [
      "ave number ask =  14.03\n",
      "ave number show =  10.3\n",
      "count ask =  1,745\n",
      "count show =  1,165\n",
      "other posts count =  17,190\n",
      "Total rows of data =  20,100\n"
     ]
    }
   ],
   "source": [
    "avecommAskhn = {}\n",
    "avecommShowhn = {}\n",
    "others = []\n",
    "for row in dataset[1:]: #title at index 1\n",
    "    title = row[1].lower()\n",
    "    rowid = row[0]\n",
    "    numcomm = int(row[4])\n",
    "    if 'ask hn' in title: #comments index 4\n",
    "        avecommAskhn[rowid] = numcomm #add id as key and number of comments as value\n",
    "    elif 'show hn' in title:\n",
    "        avecommShowhn[rowid] = numcomm\n",
    "    else:\n",
    "        others.append(rowid)\n",
    "def getave(listdata):\n",
    "    total = 0\n",
    "    for item in listdata:\n",
    "        total += listdata[item]\n",
    "    return total / len(listdata)\n",
    "\n",
    "aveAskhn = getave(avecommAskhn)\n",
    "aveShowhn = getave(avecommShowhn)\n",
    "print('ave number ask = ', round(aveAskhn,2))\n",
    "print('ave number show = ',round(aveShowhn,2))\n",
    "print('count ask = ', \"{:,}\".format(len(avecommAskhn)))\n",
    "print('count show = ', \"{:,}\".format(len(avecommShowhn)))\n",
    "print('other posts count = ', \"{:,}\".format(len(others)))\n",
    "ttl = len(avecommAskhn) + len(avecommShowhn) + len(others)\n",
    "print('Total rows of data = ', \"{:,}\".format(ttl))"
   ]
  },
  {
   "cell_type": "markdown",
   "metadata": {},
   "source": [
    "The data shows that there are more average number of comments in posts with \"Ask HN\" than posts with \"Show HN\""
   ]
  },
  {
   "cell_type": "code",
   "execution_count": 55,
   "metadata": {},
   "outputs": [
    {
     "name": "stdout",
     "output_type": "stream",
     "text": [
      "1745\n",
      "1165\n"
     ]
    }
   ],
   "source": [
    "askposts = []\n",
    "showposts = []\n",
    "for row in dataset[1:]:\n",
    "    title = row[1].lower()\n",
    "    if 'ask hn' in title:\n",
    "        askposts.append(row)\n",
    "    elif 'show hn' in title:\n",
    "        showposts.append(row)\n",
    "print(len(askposts))\n",
    "print(len(showposts))"
   ]
  },
  {
   "cell_type": "code",
   "execution_count": 71,
   "metadata": {
    "tags": []
   },
   "outputs": [
    {
     "name": "stdout",
     "output_type": "stream",
     "text": [
      "MHour:13 Total Count:85 Ave number of comments: 14.741176470588234\n",
      "MHour:10 Total Count:59 Ave number of comments: 13.440677966101696\n",
      "MHour:14 Total Count:107 Ave number of comments: 13.233644859813085\n",
      "MHour:16 Total Count:108 Ave number of comments: 16.796296296296298\n",
      "MHour:23 Total Count:69 Ave number of comments: 7.898550724637682\n",
      "MHour:12 Total Count:73 Ave number of comments: 9.41095890410959\n",
      "MHour:9 Total Count:44 Ave number of comments: 5.568181818181818\n",
      "MHour:17 Total Count:100 Ave number of comments: 11.46\n",
      "MHour:15 Total Count:116 Ave number of comments: 38.5948275862069\n",
      "MHour:21 Total Count:109 Ave number of comments: 16.009174311926607\n",
      "MHour:20 Total Count:80 Ave number of comments: 21.525\n",
      "MHour:2 Total Count:58 Ave number of comments: 23.810344827586206\n",
      "MHour:18 Total Count:109 Ave number of comments: 13.20183486238532\n",
      "MHour:3 Total Count:54 Ave number of comments: 7.796296296296297\n",
      "MHour:5 Total Count:46 Ave number of comments: 10.08695652173913\n",
      "MHour:19 Total Count:110 Ave number of comments: 10.8\n",
      "MHour:1 Total Count:60 Ave number of comments: 11.383333333333333\n",
      "MHour:22 Total Count:71 Ave number of comments: 6.746478873239437\n",
      "MHour:8 Total Count:48 Ave number of comments: 10.25\n",
      "MHour:4 Total Count:47 Ave number of comments: 7.170212765957447\n",
      "MHour:0 Total Count:55 Ave number of comments: 8.127272727272727\n",
      "MHour:6 Total Count:44 Ave number of comments: 9.022727272727273\n",
      "MHour:7 Total Count:34 Ave number of comments: 7.852941176470588\n",
      "MHour:11 Total Count:58 Ave number of comments: 11.051724137931034\n"
     ]
    }
   ],
   "source": [
    "def CatPostByHour(dataset, emptydictname,commentdict):\n",
    "    import datetime as dt\n",
    "    for row in dataset[1:]:\n",
    "        date = row[6]\n",
    "        commcount = int(row[4])\n",
    "        dateobj = dt.datetime.strptime(date,\"%m/%d/%Y %H:%M\")\n",
    "        hour = dateobj.hour\n",
    "        if hour in emptydictname:\n",
    "            emptydictname[hour] += 1\n",
    "        else:\n",
    "            emptydictname[hour] = 1\n",
    "        if hour in commentdict:\n",
    "            commentdict[hour] += commcount\n",
    "        else:\n",
    "            commentdict[hour] = commcount\n",
    "askpostbyhour = {}\n",
    "commentsbyhour = {} #sum total\n",
    "avecommbyhour = {}\n",
    "for hour in askpostbyhour:\n",
    "    avecommbyhour[hour] = commentsbyhour[hour] / askpostbyhour[hour]\n",
    "CatPostByHour(askposts,askpostbyhour, commentsbyhour)\n",
    "for item in askpostbyhour:\n",
    "    ave = commentsbyhour[item] / askpostbyhour[item]\n",
    "    avecommbyhour[item] = round(ave,2)\n",
    "    print(f\"MHour:{item} Total Count:{askpostbyhour[item]} Ave number of comments: {ave}\")"
   ]
  },
  {
   "cell_type": "code",
   "execution_count": 78,
   "metadata": {
    "tags": []
   },
   "outputs": [
    {
     "data": {
      "text/plain": [
       "[[14.74, 13],\n",
       " [13.44, 10],\n",
       " [13.23, 14],\n",
       " [16.8, 16],\n",
       " [7.9, 23],\n",
       " [9.41, 12],\n",
       " [5.57, 9],\n",
       " [11.46, 17],\n",
       " [38.59, 15],\n",
       " [16.01, 21],\n",
       " [21.52, 20],\n",
       " [23.81, 2],\n",
       " [13.2, 18],\n",
       " [7.8, 3],\n",
       " [10.09, 5],\n",
       " [10.8, 19],\n",
       " [11.38, 1],\n",
       " [6.75, 22],\n",
       " [10.25, 8],\n",
       " [7.17, 4],\n",
       " [8.13, 0],\n",
       " [9.02, 6],\n",
       " [7.85, 7],\n",
       " [11.05, 11]]"
      ]
     },
     "execution_count": 78,
     "metadata": {},
     "output_type": "execute_result"
    }
   ],
   "source": [
    "flist = []\n",
    "for hour in avecommbyhour:\n",
    "    firstList = []\n",
    "    firstList.append(avecommbyhour[hour])\n",
    "    firstList.append(hour)\n",
    "    flist.append(firstList)\n",
    "flist"
   ]
  },
  {
   "cell_type": "code",
   "execution_count": 80,
   "metadata": {},
   "outputs": [
    {
     "data": {
      "text/plain": [
       "[[38.59, 15],\n",
       " [23.81, 2],\n",
       " [21.52, 20],\n",
       " [16.8, 16],\n",
       " [16.01, 21],\n",
       " [14.74, 13],\n",
       " [13.44, 10],\n",
       " [13.23, 14],\n",
       " [13.2, 18],\n",
       " [11.46, 17],\n",
       " [11.38, 1],\n",
       " [11.05, 11],\n",
       " [10.8, 19],\n",
       " [10.25, 8],\n",
       " [10.09, 5],\n",
       " [9.41, 12],\n",
       " [9.02, 6],\n",
       " [8.13, 0],\n",
       " [7.9, 23],\n",
       " [7.85, 7],\n",
       " [7.8, 3],\n",
       " [7.17, 4],\n",
       " [6.75, 22],\n",
       " [5.57, 9]]"
      ]
     },
     "execution_count": 80,
     "metadata": {},
     "output_type": "execute_result"
    }
   ],
   "source": [
    "sorted_list = sorted(flist,reverse=True)\n",
    "sorted_list"
   ]
  },
  {
   "cell_type": "code",
   "execution_count": 94,
   "metadata": {
    "tags": []
   },
   "outputs": [
    {
     "name": "stdout",
     "output_type": "stream",
     "text": [
      "Top 5 Hours for Ask Posts Comments\n",
      "15:00: 38.59 average comments per post.\n",
      "02:00: 23.81 average comments per post.\n",
      "20:00: 21.52 average comments per post.\n",
      "16:00: 16.8 average comments per post.\n",
      "21:00: 16.01 average comments per post.\n"
     ]
    }
   ],
   "source": [
    "print(\"Top 5 Hours for Ask Posts Comments\")\n",
    "for item in sorted_list[0:5]:\n",
    "    time = dt.datetime.strptime(str(item[1]),\"%H\")\n",
    "    time = dt.datetime.strftime(time,\"%H:%M\")\n",
    "    ave = \"{:.2f}\".format(item[0])\n",
    "    print(f\"{time}: {item[0]} average comments per post.\")"
   ]
  },
  {
   "cell_type": "code",
   "execution_count": 89,
   "metadata": {},
   "outputs": [
    {
     "name": "stdout",
     "output_type": "stream",
     "text": [
      "15\n"
     ]
    }
   ],
   "source": [
    "print(sorted_list[0][1])"
   ]
  },
  {
   "cell_type": "code",
   "execution_count": null,
   "metadata": {},
   "outputs": [],
   "source": []
  }
 ],
 "metadata": {
  "kernelspec": {
   "display_name": "Python 3 (ipykernel)",
   "language": "python",
   "name": "python3"
  },
  "language_info": {
   "codemirror_mode": {
    "name": "ipython",
    "version": 3
   },
   "file_extension": ".py",
   "mimetype": "text/x-python",
   "name": "python",
   "nbconvert_exporter": "python",
   "pygments_lexer": "ipython3",
   "version": "3.11.0rc1"
  }
 },
 "nbformat": 4,
 "nbformat_minor": 4
}
